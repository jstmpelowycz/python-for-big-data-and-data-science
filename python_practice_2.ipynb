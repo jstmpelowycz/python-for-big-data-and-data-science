{
 "nbformat": 4,
 "nbformat_minor": 0,
 "metadata": {
  "colab": {
   "provenance": []
  },
  "kernelspec": {
   "name": "python3",
   "display_name": "Python 3"
  },
  "language_info": {
   "name": "python"
  }
 },
 "cells": [
  {
   "cell_type": "markdown",
   "source": [
    "# I. Змінні та памʼять."
   ],
   "metadata": {
    "id": "p9wwt0LZzNvn",
    "pycharm": {
     "name": "#%% md\n"
    }
   }
  },
  {
   "cell_type": "markdown",
   "source": [
    "1. Створити змінні, що посилаються на два цілих числа, що однакові за значенням, де значення належить проміжку від -5 до 256. Перевірте, чи будуть ці змінні рівні тільки за значенням або ж ще будуть посилатися на один і той самий обʼєкт в памʼяті? Наведіть код та дайте текстову відповідь нижче."
   ],
   "metadata": {
    "id": "HTJrrm95xSV9",
    "pycharm": {
     "name": "#%% md\n"
    }
   }
  },
  {
   "cell_type": "code",
   "execution_count": null,
   "metadata": {
    "id": "TATni2vzayjG",
    "colab": {
     "base_uri": "https://localhost:8080/"
    },
    "executionInfo": {
     "status": "ok",
     "timestamp": 1706536841479,
     "user_tz": -120,
     "elapsed": 7,
     "user": {
      "displayName": "Dmytro Pelovych",
      "userId": "02588883805682506892"
     }
    },
    "outputId": "cdb45b01-c600-4dfa-be23-ddec1dd30eaf",
    "pycharm": {
     "name": "#%%\n"
    }
   },
   "outputs": [
    {
     "output_type": "stream",
     "name": "stdout",
     "text": [
      "True\n",
      "True\n"
     ]
    }
   ],
   "source": [
    "var_1 = 0\n",
    "var_2 = 0\n",
    "\n",
    "print(var_1 == var_2) # True\n",
    "print(var_1 is var_2) # True"
   ]
  },
  {
   "cell_type": "markdown",
   "source": [
    "Змінні є рівними за значенням, а також посилаються на один і той самий обʼєкт в паʼмяті."
   ],
   "metadata": {
    "id": "zfRG_o3WbRdg",
    "pycharm": {
     "name": "#%% md\n"
    }
   }
  },
  {
   "cell_type": "markdown",
   "source": [
    "2. За допомогою якої функції можна перевірити належність змінної до вказаного типу даних (напр. чи змінна True посилається на значення булевого та цілочисленого типу)?"
   ],
   "metadata": {
    "id": "ISORzt6M3vAt",
    "pycharm": {
     "name": "#%% md\n"
    }
   }
  },
  {
   "cell_type": "code",
   "source": [
    "bool_var = True\n",
    "int_var = 1\n",
    "\n",
    "print(type(bool_var) is bool) # True\n",
    "print(type(int_var) is int) # True"
   ],
   "metadata": {
    "id": "9vL9CFaMbfyo",
    "colab": {
     "base_uri": "https://localhost:8080/"
    },
    "executionInfo": {
     "status": "ok",
     "timestamp": 1706541239653,
     "user_tz": -120,
     "elapsed": 3,
     "user": {
      "displayName": "Dmytro Pelovych",
      "userId": "02588883805682506892"
     }
    },
    "outputId": "703b47db-1b49-4a34-883e-b212e210bbb4",
    "pycharm": {
     "name": "#%%\n"
    }
   },
   "execution_count": 84,
   "outputs": [
    {
     "output_type": "stream",
     "name": "stdout",
     "text": [
      "True\n",
      "True\n"
     ]
    }
   ]
  },
  {
   "cell_type": "markdown",
   "source": [
    "# II. Цілі числа та числа з рухомою комою"
   ],
   "metadata": {
    "id": "tRxugKAxwYLw",
    "pycharm": {
     "name": "#%% md\n"
    }
   }
  },
  {
   "cell_type": "markdown",
   "source": [
    "3. Створити дві змінні, що посилаються на будь-які ціле число та число з рухомою комою та продемонструвати такі арифметичні операції: додавання, віднімання, ділення, множення, ділення без залишку, ділення по модулю, приведення до ступеню. Всі результати операцій вивести на екран."
   ],
   "metadata": {
    "id": "NLHkgd5Gybc8",
    "pycharm": {
     "name": "#%% md\n"
    }
   }
  },
  {
   "cell_type": "code",
   "source": [
    "int_var = 10\n",
    "float_var = 2.37\n",
    "\n",
    "print(int_var + float_var) # 12.370000000000001\n",
    "print(int_var - float_var) # 7.63\n",
    "print(int_var * float_var) # 23.700000000000003\n",
    "print(int_var / float_var) # 4.219409282700422\n",
    "print(int_var // float_var) # 4.0\n",
    "print(int_var % float_var) # 0.5199999999999996\n",
    "print(int_var ** float_var) # 234.42288153199226"
   ],
   "metadata": {
    "id": "nb8u_3pjb2cA",
    "colab": {
     "base_uri": "https://localhost:8080/"
    },
    "executionInfo": {
     "status": "ok",
     "timestamp": 1706541238636,
     "user_tz": -120,
     "elapsed": 2,
     "user": {
      "displayName": "Dmytro Pelovych",
      "userId": "02588883805682506892"
     }
    },
    "outputId": "84f58857-9ca0-47d7-d3c5-8f792096c2ef",
    "pycharm": {
     "name": "#%%\n"
    }
   },
   "execution_count": 83,
   "outputs": [
    {
     "output_type": "stream",
     "name": "stdout",
     "text": [
      "12.370000000000001\n",
      "7.63\n",
      "23.700000000000003\n",
      "4.219409282700422\n",
      "4.0\n",
      "0.5199999999999996\n",
      "234.42288153199226\n"
     ]
    }
   ]
  },
  {
   "cell_type": "markdown",
   "source": [
    "4. Використовуючи змінні з вправи 3, продемонструйте механізм явного перетворення типів, де числа з рухомою комою перетворюються на цілі числа. Також визначте змінну, що посилається на значення булевого типу і спробуйте явно привести її до цілого числа."
   ],
   "metadata": {
    "id": "1kBClKgPzZnC",
    "pycharm": {
     "name": "#%% md\n"
    }
   }
  },
  {
   "cell_type": "code",
   "source": [
    "bool_var = False\n",
    "float_var = 2.37\n",
    "\n",
    "print(int(float_var)) # 2\n",
    "print(int(bool_var)) # 0"
   ],
   "metadata": {
    "id": "TbqJbkeUcKsD",
    "colab": {
     "base_uri": "https://localhost:8080/"
    },
    "executionInfo": {
     "status": "ok",
     "timestamp": 1706541237792,
     "user_tz": -120,
     "elapsed": 2,
     "user": {
      "displayName": "Dmytro Pelovych",
      "userId": "02588883805682506892"
     }
    },
    "outputId": "813b1932-c378-451d-ef37-b25191b47f24",
    "pycharm": {
     "name": "#%%\n"
    }
   },
   "execution_count": 82,
   "outputs": [
    {
     "output_type": "stream",
     "name": "stdout",
     "text": [
      "2\n",
      "0\n"
     ]
    }
   ]
  },
  {
   "cell_type": "markdown",
   "source": [
    "# IІІ. Рядки (String)."
   ],
   "metadata": {
    "id": "EVJ7AflwxrZi",
    "pycharm": {
     "name": "#%% md\n"
    }
   }
  },
  {
   "cell_type": "markdown",
   "source": [
    "5. Створити пустий рядок двома різними способами."
   ],
   "metadata": {
    "id": "_s5ECzz9zE61",
    "pycharm": {
     "name": "#%% md\n"
    }
   }
  },
  {
   "cell_type": "code",
   "source": [
    "str_0 = ''\n",
    "str_1 = str()\n",
    "\n",
    "print(str_0)\n",
    "print(str_1)"
   ],
   "metadata": {
    "id": "fkZJHu9Scvc-",
    "colab": {
     "base_uri": "https://localhost:8080/"
    },
    "executionInfo": {
     "status": "ok",
     "timestamp": 1706541236291,
     "user_tz": -120,
     "elapsed": 2,
     "user": {
      "displayName": "Dmytro Pelovych",
      "userId": "02588883805682506892"
     }
    },
    "outputId": "2da6676a-a636-4763-c0f9-c411eeb554ac",
    "pycharm": {
     "name": "#%%\n"
    }
   },
   "execution_count": 81,
   "outputs": [
    {
     "output_type": "stream",
     "name": "stdout",
     "text": [
      "\n",
      "\n"
     ]
    }
   ]
  },
  {
   "cell_type": "markdown",
   "source": [
    "6. Створити рядок з апострофом. Зробити його сирим. Вивести обидва рядка на екран."
   ],
   "metadata": {
    "id": "4Bdn9J3MzLf_",
    "pycharm": {
     "name": "#%% md\n"
    }
   }
  },
  {
   "cell_type": "code",
   "source": [
    "str_0 = 'I\\'m Dima'\n",
    "str_1 = r'I\\'m Dima'\n",
    "\n",
    "print(str_0)\n",
    "print(str_1)"
   ],
   "metadata": {
    "id": "ivji_hsmc0GH",
    "colab": {
     "base_uri": "https://localhost:8080/"
    },
    "executionInfo": {
     "status": "ok",
     "timestamp": 1706541235534,
     "user_tz": -120,
     "elapsed": 296,
     "user": {
      "displayName": "Dmytro Pelovych",
      "userId": "02588883805682506892"
     }
    },
    "outputId": "1a96c932-a861-470c-99ad-20ec52f1c6cf",
    "pycharm": {
     "name": "#%%\n"
    }
   },
   "execution_count": 80,
   "outputs": [
    {
     "output_type": "stream",
     "name": "stdout",
     "text": [
      "I'm Dima\n",
      "I\\'m Dima\n"
     ]
    }
   ]
  },
  {
   "cell_type": "markdown",
   "source": [
    "7. Створити змінну, що буде посилатися на Ваше прізвище латинкою. Створити форматований рядок, який буде мати вигляд \"My surname is ______\", де на місці нижніх підкреслень буде Ваше прізвище зі змінної."
   ],
   "metadata": {
    "id": "bg_d8wM4z8dS",
    "pycharm": {
     "name": "#%% md\n"
    }
   }
  },
  {
   "cell_type": "code",
   "source": [
    "def introduce(surname):\n",
    "  print(f'My surname is {surname}')\n",
    "\n",
    "\n",
    "my_surname = 'Pelovych'\n",
    "\n",
    "introduce(my_surname)"
   ],
   "metadata": {
    "id": "kuxFgpWndACq",
    "colab": {
     "base_uri": "https://localhost:8080/"
    },
    "executionInfo": {
     "status": "ok",
     "timestamp": 1706541233993,
     "user_tz": -120,
     "elapsed": 283,
     "user": {
      "displayName": "Dmytro Pelovych",
      "userId": "02588883805682506892"
     }
    },
    "outputId": "bf06182d-e24c-4a18-ff69-ef57dc9d0a8a",
    "pycharm": {
     "name": "#%%\n"
    }
   },
   "execution_count": 79,
   "outputs": [
    {
     "output_type": "stream",
     "name": "stdout",
     "text": [
      "My surname is Pelovych\n"
     ]
    }
   ]
  },
  {
   "cell_type": "markdown",
   "source": [
    "8. Маючи рядок \"My dog is crazy.\" перетворити його на список [\"my\", \"dog\", \"is\", \"crazy\"]"
   ],
   "metadata": {
    "id": "1Nc6RqvQ0hxU",
    "pycharm": {
     "name": "#%% md\n"
    }
   }
  },
  {
   "cell_type": "code",
   "source": [
    "dog_desc = 'My dog is crazy'\n",
    "dog_desc_split = dog_desc.lower().split()\n",
    "\n",
    "print(dog_desc_split)"
   ],
   "metadata": {
    "id": "w1Ya4RqedUhw",
    "colab": {
     "base_uri": "https://localhost:8080/"
    },
    "executionInfo": {
     "status": "ok",
     "timestamp": 1706541232692,
     "user_tz": -120,
     "elapsed": 2,
     "user": {
      "displayName": "Dmytro Pelovych",
      "userId": "02588883805682506892"
     }
    },
    "outputId": "e87ef46c-fcba-483e-9933-c84ca1c60088",
    "pycharm": {
     "name": "#%%\n"
    }
   },
   "execution_count": 78,
   "outputs": [
    {
     "output_type": "stream",
     "name": "stdout",
     "text": [
      "['my', 'dog', 'is', 'crazy']\n"
     ]
    }
   ]
  },
  {
   "cell_type": "markdown",
   "source": [
    "# IV. Робота зі списками."
   ],
   "metadata": {
    "id": "GYVqN9uP1D4n",
    "pycharm": {
     "name": "#%% md\n"
    }
   }
  },
  {
   "cell_type": "markdown",
   "source": [
    "9. Створити список двома різними за синтаксисом способами. За допомогою вбудованої функції обчисліть довжину одного з них."
   ],
   "metadata": {
    "id": "7-DeDunw2sO-",
    "pycharm": {
     "name": "#%% md\n"
    }
   }
  },
  {
   "cell_type": "code",
   "source": [
    "list_1 = [1, 2, 3]\n",
    "list_2 = list(range(1, 4))\n",
    "\n",
    "print(list_1)\n",
    "print(list_2)\n",
    "\n",
    "print(len(list_1))"
   ],
   "metadata": {
    "id": "zxg06Uuxdyoh",
    "colab": {
     "base_uri": "https://localhost:8080/"
    },
    "executionInfo": {
     "status": "ok",
     "timestamp": 1706541231633,
     "user_tz": -120,
     "elapsed": 2,
     "user": {
      "displayName": "Dmytro Pelovych",
      "userId": "02588883805682506892"
     }
    },
    "outputId": "de6f70b6-9b21-4381-a8d9-82b97030392b",
    "pycharm": {
     "name": "#%%\n"
    }
   },
   "execution_count": 77,
   "outputs": [
    {
     "output_type": "stream",
     "name": "stdout",
     "text": [
      "[1, 2, 3]\n",
      "[1, 2, 3]\n",
      "3\n"
     ]
    }
   ]
  },
  {
   "cell_type": "markdown",
   "source": [
    "10. Створіть два списка та за допомогою спеціального методу додайте другий з них в якості останнього елемента першого."
   ],
   "metadata": {
    "id": "8vmGUTjL22gI",
    "pycharm": {
     "name": "#%% md\n"
    }
   }
  },
  {
   "cell_type": "code",
   "source": [
    "list_1 = [1, 2, 3]\n",
    "list_2 = list(range(4, 7))\n",
    "\n",
    "list_1.append(list_2)\n",
    "\n",
    "print(list_1) # [1, 2, 3, [4, 5, 6]]"
   ],
   "metadata": {
    "id": "uHtjWYw7d7hm",
    "colab": {
     "base_uri": "https://localhost:8080/"
    },
    "executionInfo": {
     "status": "ok",
     "timestamp": 1706541230706,
     "user_tz": -120,
     "elapsed": 338,
     "user": {
      "displayName": "Dmytro Pelovych",
      "userId": "02588883805682506892"
     }
    },
    "outputId": "f23d3ef0-f351-48ce-f830-6ea93633047d",
    "pycharm": {
     "name": "#%%\n"
    }
   },
   "execution_count": 76,
   "outputs": [
    {
     "output_type": "stream",
     "name": "stdout",
     "text": [
      "[1, 2, 3, [4, 5, 6]]\n"
     ]
    }
   ]
  },
  {
   "cell_type": "markdown",
   "source": [
    "11. Створіть список, де елементами цього списку також є списки. Отримай перший елемент з останнього рядка та виведи значення на екран."
   ],
   "metadata": {
    "id": "JC3BkD-67_--",
    "pycharm": {
     "name": "#%% md\n"
    }
   }
  },
  {
   "cell_type": "code",
   "source": [
    "matrix = [\n",
    "    [val_1 + val_2 for val_1 in range(3)] for val_2 in range(3)\n",
    "]\n",
    "\n",
    "last_row = matrix[-1]\n",
    "\n",
    "print(matrix) # [[0, 1, 2], [1, 2, 3], [2, 3, 4]]\n",
    "print(last_row) # [2, 3, 4]\n",
    "print(last_row[0]) # 2"
   ],
   "metadata": {
    "id": "Kz2jZHsGeLlz",
    "colab": {
     "base_uri": "https://localhost:8080/"
    },
    "executionInfo": {
     "status": "ok",
     "timestamp": 1706541228343,
     "user_tz": -120,
     "elapsed": 365,
     "user": {
      "displayName": "Dmytro Pelovych",
      "userId": "02588883805682506892"
     }
    },
    "outputId": "eaffeacd-0673-482f-a9e8-fa57fc71e450",
    "pycharm": {
     "name": "#%%\n"
    }
   },
   "execution_count": 75,
   "outputs": [
    {
     "output_type": "stream",
     "name": "stdout",
     "text": [
      "[[0, 1, 2], [1, 2, 3], [2, 3, 4]]\n",
      "[2, 3, 4]\n",
      "2\n"
     ]
    }
   ]
  },
  {
   "cell_type": "markdown",
   "source": [
    "12. Створіть список з десяти елементів різного типу. Отримайте всі елементи, окрім двох перших та двох останніх та збережіть їх в новій змінній."
   ],
   "metadata": {
    "id": "JA47PKTv8zFK",
    "pycharm": {
     "name": "#%% md\n"
    }
   }
  },
  {
   "cell_type": "code",
   "source": [
    "def describe(list):\n",
    "  print(f'{list}, length — {len(list)}')\n",
    "\n",
    "\n",
    "mix_list = ['hello', True, None, { 'foo': 'bar' }] + list(range(1, 7))\n",
    "\n",
    "selected_items = mix_list[2:-2]\n",
    "\n",
    "describe(mix_list) # ['hello', True, None, {'foo': 'bar'}, 1, 2, 3, 4, 5, 6], length — 10\n",
    "describe(selected_items) # [None, {'foo': 'bar'}, 1, 2, 3, 4], length — 6"
   ],
   "metadata": {
    "id": "_rHdUR-ueP4-",
    "colab": {
     "base_uri": "https://localhost:8080/"
    },
    "executionInfo": {
     "status": "ok",
     "timestamp": 1706541225471,
     "user_tz": -120,
     "elapsed": 310,
     "user": {
      "displayName": "Dmytro Pelovych",
      "userId": "02588883805682506892"
     }
    },
    "outputId": "f3579412-b468-41c9-cb95-d377c9a1a6ea",
    "pycharm": {
     "name": "#%%\n"
    }
   },
   "execution_count": 74,
   "outputs": [
    {
     "output_type": "stream",
     "name": "stdout",
     "text": [
      "['hello', True, None, {'foo': 'bar'}, 1, 2, 3, 4, 5, 6], length — 10\n",
      "[None, {'foo': 'bar'}, 1, 2, 3, 4], length — 6\n"
     ]
    }
   ]
  },
  {
   "cell_type": "markdown",
   "source": [
    "# V. Робота з кортежами."
   ],
   "metadata": {
    "id": "pCjR1dJb1Qbi",
    "pycharm": {
     "name": "#%% md\n"
    }
   }
  },
  {
   "cell_type": "markdown",
   "source": [
    "14. Створити кортеж з один елементом."
   ],
   "metadata": {
    "id": "fAZCxAX06R_k",
    "pycharm": {
     "name": "#%% md\n"
    }
   }
  },
  {
   "cell_type": "code",
   "source": [
    "tuple = (42,)"
   ],
   "metadata": {
    "id": "H7d82WkQev3e",
    "executionInfo": {
     "status": "ok",
     "timestamp": 1706541222200,
     "user_tz": -120,
     "elapsed": 317,
     "user": {
      "displayName": "Dmytro Pelovych",
      "userId": "02588883805682506892"
     }
    },
    "pycharm": {
     "name": "#%%\n"
    }
   },
   "execution_count": 73,
   "outputs": []
  },
  {
   "cell_type": "markdown",
   "source": [
    "15. Порівняйте список та кортеж. Назвіть схожості та відмінності, випадки використання."
   ],
   "metadata": {
    "id": "8LCtYcmI6w1M",
    "pycharm": {
     "name": "#%% md\n"
    }
   }
  },
  {
   "cell_type": "markdown",
   "source": [
    "Схожості:\n",
    "- використовуються для зберігання колекцій\n",
    "- є індексованими\n",
    "- можуть містити різні типи\n",
    "\n",
    "Відмінності:\n",
    "- різний синтаксис (`[]` vs. `()`)\n",
    "- списки є мутабельними, кортежі — ні"
   ],
   "metadata": {
    "id": "fUsN1Hnue0C6",
    "pycharm": {
     "name": "#%% md\n"
    }
   }
  },
  {
   "cell_type": "markdown",
   "source": [
    "16. Створіть кортеж з 11ти елементів чисел з рухомою комою та отримайте кожен парний за індексом елемент в зворотньому порядку. Наприклад, маючи (1.2, 2.3, 3.3, 4.3, 5.3, 6.3, 7.3, 8.3, 9.3, 0.3), отримати (0.3, 8.3, 6.3, 4.3, 2.3). Результат збережіть в нову змінну та виведіть на екран."
   ],
   "metadata": {
    "id": "m0xrwFijAmDD",
    "pycharm": {
     "name": "#%% md\n"
    }
   }
  },
  {
   "cell_type": "code",
   "source": [
    "def reverse_tuple(tuple):\n",
    "  return tuple[::-1]\n",
    "\n",
    "\n",
    "def get_even_only(tuple):\n",
    "  return tuple[::2]\n",
    "\n",
    "\n",
    "sample_tuple = (0.3, 8.3, 6.3, 4.3, 2.3)\n",
    "\n",
    "prev_tuple = (1.2, 2.3, 3.3, 4.3, 5.3, 6.3, 7.3, 8.3, 9.3, 0.3)\n",
    "\n",
    "next_tuple = get_even_only(reverse_tuple(prev_tuple))\n",
    "\n",
    "print(next_tuple) # (0.3, 8.3, 6.3, 4.3, 2.3)\n",
    "\n",
    "print(next_tuple == sample_tuple) # True\n"
   ],
   "metadata": {
    "id": "p-5DAH6XfAGA",
    "colab": {
     "base_uri": "https://localhost:8080/"
    },
    "executionInfo": {
     "status": "ok",
     "timestamp": 1706541220228,
     "user_tz": -120,
     "elapsed": 349,
     "user": {
      "displayName": "Dmytro Pelovych",
      "userId": "02588883805682506892"
     }
    },
    "outputId": "d3912ff2-cb38-4014-9850-78c0e014d5fd",
    "pycharm": {
     "name": "#%%\n"
    }
   },
   "execution_count": 72,
   "outputs": [
    {
     "output_type": "stream",
     "name": "stdout",
     "text": [
      "(0.3, 8.3, 6.3, 4.3, 2.3)\n",
      "True\n"
     ]
    }
   ]
  },
  {
   "cell_type": "markdown",
   "source": [
    "# VI. Множини (Set)."
   ],
   "metadata": {
    "id": "rW_I9dt3x6cW",
    "pycharm": {
     "name": "#%% md\n"
    }
   }
  },
  {
   "cell_type": "markdown",
   "source": [
    "17. Створити множину без елементів. Після цого за допомогою методу додайте кілька різних елементів до множини. Чи множини є змінним типом даних?"
   ],
   "metadata": {
    "id": "zNjRLHLw1Bgg",
    "pycharm": {
     "name": "#%% md\n"
    }
   }
  },
  {
   "cell_type": "code",
   "source": [
    "my_set = set()\n",
    "\n",
    "for val in range(1, 4):\n",
    "  my_set.add(val)\n",
    "\n",
    "print(my_set)"
   ],
   "metadata": {
    "id": "KOv7zc2Kfo4N",
    "colab": {
     "base_uri": "https://localhost:8080/"
    },
    "executionInfo": {
     "status": "ok",
     "timestamp": 1706541217850,
     "user_tz": -120,
     "elapsed": 293,
     "user": {
      "displayName": "Dmytro Pelovych",
      "userId": "02588883805682506892"
     }
    },
    "outputId": "be40bb27-e5f3-48c7-db21-adbf433fe451",
    "pycharm": {
     "name": "#%%\n"
    }
   },
   "execution_count": 71,
   "outputs": [
    {
     "output_type": "stream",
     "name": "stdout",
     "text": [
      "{1, 2, 3}\n"
     ]
    }
   ]
  },
  {
   "cell_type": "markdown",
   "source": [
    "Множини — мутабельні, тобто в/з них можна додавати/вилучати значення."
   ],
   "metadata": {
    "id": "vxS6dVYiftZQ",
    "pycharm": {
     "name": "#%% md\n"
    }
   }
  },
  {
   "cell_type": "markdown",
   "source": [
    "18. Створити множину, маючи список my_list = [1, 1, 2, 67, 67, 8, 9]. Пояснити, чому \"зникли\" деякі елементи."
   ],
   "metadata": {
    "id": "gHpT0Zw_1HEF",
    "pycharm": {
     "name": "#%% md\n"
    }
   }
  },
  {
   "cell_type": "code",
   "source": [
    "my_list = [1, 1, 2, 67, 67, 8, 9]\n",
    "my_set = set(my_list)\n",
    "\n",
    "print(my_set)"
   ],
   "metadata": {
    "id": "qCN4uvJ_fxmu",
    "colab": {
     "base_uri": "https://localhost:8080/"
    },
    "executionInfo": {
     "status": "ok",
     "timestamp": 1706541216141,
     "user_tz": -120,
     "elapsed": 267,
     "user": {
      "displayName": "Dmytro Pelovych",
      "userId": "02588883805682506892"
     }
    },
    "outputId": "73f9c344-527e-4835-9030-6f4c7b0022d2",
    "pycharm": {
     "name": "#%%\n"
    }
   },
   "execution_count": 70,
   "outputs": [
    {
     "output_type": "stream",
     "name": "stdout",
     "text": [
      "{1, 2, 67, 8, 9}\n"
     ]
    }
   ]
  },
  {
   "cell_type": "markdown",
   "source": [
    "Списки можуть містити тільки унікальні значення."
   ],
   "metadata": {
    "id": "tFNc1e20fyny",
    "pycharm": {
     "name": "#%% md\n"
    }
   }
  },
  {
   "cell_type": "markdown",
   "source": [
    "19. Створіть дві множини. Продемонстуйте над ними операції: обʼєднання, різниці, пересічі та симетричної різниці. Використовуйте методи, що не змінюють множини, а створюють нові."
   ],
   "metadata": {
    "id": "SRMkGizS1UwY",
    "pycharm": {
     "name": "#%% md\n"
    }
   }
  },
  {
   "cell_type": "code",
   "source": [
    "set_1 = set(range(1, 11))\n",
    "set_2 = set(range(11, 21))\n",
    "\n",
    "union_set = set_1.union(set_2)\n",
    "diff_set = set_1.difference(set_2)\n",
    "inter_set = set_1.intersection(set_2)\n",
    "sym_diff_set = set_1.symmetric_difference(set_2)\n",
    "\n",
    "print(union_set)\n",
    "print(diff_set)\n",
    "print(inter_set)\n",
    "print(sym_diff_set)"
   ],
   "metadata": {
    "id": "h0T-VuDnf3Ri",
    "executionInfo": {
     "status": "ok",
     "timestamp": 1706541211583,
     "user_tz": -120,
     "elapsed": 3,
     "user": {
      "displayName": "Dmytro Pelovych",
      "userId": "02588883805682506892"
     }
    },
    "outputId": "664cee37-99f4-4d76-90c8-11cea7a0f308",
    "colab": {
     "base_uri": "https://localhost:8080/"
    },
    "pycharm": {
     "name": "#%%\n"
    }
   },
   "execution_count": 69,
   "outputs": [
    {
     "output_type": "stream",
     "name": "stdout",
     "text": [
      "{1, 2, 3, 4, 5, 6, 7, 8, 9, 10, 11, 12, 13, 14, 15, 16, 17, 18, 19, 20}\n",
      "{1, 2, 3, 4, 5, 6, 7, 8, 9, 10}\n",
      "set()\n",
      "{1, 2, 3, 4, 5, 6, 7, 8, 9, 10, 11, 12, 13, 14, 15, 16, 17, 18, 19, 20}\n"
     ]
    }
   ]
  },
  {
   "cell_type": "markdown",
   "source": [
    "# VII. Словники (Dictionary)."
   ],
   "metadata": {
    "id": "kWc8gkzTx7Ea",
    "pycharm": {
     "name": "#%% md\n"
    }
   }
  },
  {
   "cell_type": "markdown",
   "source": [
    "20. Створіть пустий словник. До нього додайте чотири пари елементів такі, щоб їхні ключі були різних типів. Чи може список бути ключем? Чому?"
   ],
   "metadata": {
    "id": "i5FLwj-B2ybQ",
    "pycharm": {
     "name": "#%% md\n"
    }
   }
  },
  {
   "cell_type": "code",
   "source": [
    "my_dict = {}\n",
    "\n",
    "my_dict[1] = 'int key'\n",
    "my_dict['key'] = 'string key'\n",
    "my_dict[(1, 2)] = 'tuple key'\n",
    "\n",
    "print(my_dict) # {1: 'int key', 'key': 'string key', (1, 2): 'tuple key'}"
   ],
   "metadata": {
    "id": "hxgv3BzrgLAV",
    "colab": {
     "base_uri": "https://localhost:8080/"
    },
    "executionInfo": {
     "status": "ok",
     "timestamp": 1706540449026,
     "user_tz": -120,
     "elapsed": 867,
     "user": {
      "displayName": "Dmytro Pelovych",
      "userId": "02588883805682506892"
     }
    },
    "outputId": "20a2c366-c10c-480c-cef5-ab3155412dfe",
    "pycharm": {
     "name": "#%%\n"
    }
   },
   "execution_count": null,
   "outputs": [
    {
     "output_type": "stream",
     "name": "stdout",
     "text": [
      "{1: 'int key', 'key': 'string key', (1, 2): 'tuple key'}\n"
     ]
    }
   ]
  },
  {
   "cell_type": "markdown",
   "source": [
    "Ні, не може. Ключами можуть бути лише ті значення, що є немутабельними."
   ],
   "metadata": {
    "id": "zwa7UVN-gR3m",
    "pycharm": {
     "name": "#%% md\n"
    }
   }
  },
  {
   "cell_type": "markdown",
   "source": [
    "21. Створіть словник, де значенням в одній з пар теж буде словник, який теж має вкладений словник. Виведіть на екран значення, що міститься в словнику, що знаходиться на найнижчому рівні ієрархії вкладеності (найбільш внутрішній)."
   ],
   "metadata": {
    "id": "WM_pMlJsgoNf",
    "pycharm": {
     "name": "#%% md\n"
    }
   }
  },
  {
   "cell_type": "code",
   "source": [
    "my_dict = {\n",
    "    'key0': {\n",
    "        'key1': {\n",
    "            'key2': {\n",
    "                'enough': True\n",
    "            }\n",
    "        }\n",
    "    }\n",
    "}\n",
    "\n",
    "deepest = my_dict['key0']['key1']['key2']\n",
    "\n",
    "print(deepest)"
   ],
   "metadata": {
    "id": "60dlP7IHhAy4",
    "colab": {
     "base_uri": "https://localhost:8080/"
    },
    "executionInfo": {
     "status": "ok",
     "timestamp": 1706540683103,
     "user_tz": -120,
     "elapsed": 6,
     "user": {
      "displayName": "Dmytro Pelovych",
      "userId": "02588883805682506892"
     }
    },
    "outputId": "021e7ea4-321f-4aea-b0ea-c696825edd60",
    "pycharm": {
     "name": "#%%\n"
    }
   },
   "execution_count": null,
   "outputs": [
    {
     "output_type": "stream",
     "name": "stdout",
     "text": [
      "{'enough': True}\n"
     ]
    }
   ]
  },
  {
   "cell_type": "markdown",
   "source": [
    "# Вітаю! Ви велика(ий) молодець, що впоралась(вся). Похваліть себе та побалуйте чимось приємним. Я Вами пишаюся."
   ],
   "metadata": {
    "id": "xOZP0hkx6cCr",
    "pycharm": {
     "name": "#%% md\n"
    }
   }
  }
 ]
}